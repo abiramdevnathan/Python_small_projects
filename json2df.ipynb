{
 "cells": [
  {
   "cell_type": "markdown",
   "metadata": {},
   "source": [
    "# Parsing JSON format and converting to dataframe"
   ]
  },
  {
   "cell_type": "code",
   "execution_count": 1,
   "metadata": {},
   "outputs": [],
   "source": [
    "#Importing the libraries\n",
    "import json\n",
    "from pprint import pprint\n",
    "import urllib2\n",
    "import pandas as pd\n",
    "import numpy as np"
   ]
  },
  {
   "cell_type": "code",
   "execution_count": 2,
   "metadata": {},
   "outputs": [],
   "source": [
    "#Open seismic url\n",
    "seismic_file=open(\"seismic.json\",'w')"
   ]
  },
  {
   "cell_type": "code",
   "execution_count": 3,
   "metadata": {},
   "outputs": [],
   "source": [
    "#savinf seismic.jason\n",
    "str_response=urllib2.urlopen(\"https://earthquake.usgs.gov/fdsnws/event/1/query?format=geojson&starttime=2016-10-01&endtime=2016-10-02\")\n",
    "json_response=json.loads(str_response.read())\n",
    "seismic_file.write(json.dumps(json_response))\n",
    "seismic_file.write(\"\\n\")"
   ]
  },
  {
   "cell_type": "code",
   "execution_count": 4,
   "metadata": {},
   "outputs": [
    {
     "name": "stdout",
     "output_type": "stream",
     "text": [
      "306\n"
     ]
    }
   ],
   "source": [
    "#Loading seismic.json\n",
    "seismic_data={}\n",
    "with open('seismic.json') as seismic_main_file:\n",
    "    seismic_data=json.load(seismic_main_file)\n",
    "    print len(seismic_data[\"features\"])"
   ]
  },
  {
   "cell_type": "code",
   "execution_count": 5,
   "metadata": {},
   "outputs": [],
   "source": [
    "#Extracting Latitude, Longitude, Title\n",
    "i=0\n",
    "lat=[]\n",
    "longi=[]\n",
    "title=[]\n",
    "while i<(len(seismic_data[\"features\"])):\n",
    "    lat.append(seismic_data[\"features\"][i][\"geometry\"][\"coordinates\"][0])\n",
    "    longi.append(seismic_data[\"features\"][i][\"geometry\"][\"coordinates\"][1])\n",
    "    title.append(seismic_data[\"features\"][i][\"properties\"][\"title\"])\n",
    "    i=i+1"
   ]
  },
  {
   "cell_type": "code",
   "execution_count": 9,
   "metadata": {},
   "outputs": [],
   "source": [
    "#Extracting Place, Magnitude\n",
    "place=[]\n",
    "mag=[]\n",
    "j=0\n",
    "while j<305:\n",
    "    place.append(seismic_data[\"features\"][j][\"properties\"][\"place\"])\n",
    "    mag.append(seismic_data[\"features\"][j][\"properties\"][\"mag\"])\n",
    "    j=j+1\n",
    "place.append(np.nan)\n",
    "mag.append(np.nan)"
   ]
  },
  {
   "cell_type": "code",
   "execution_count": 11,
   "metadata": {},
   "outputs": [
    {
     "name": "stdout",
     "output_type": "stream",
     "text": [
      "       Latitude  Longitude                                         Title  \\\n",
      "301 -122.730500  38.800667           M 1.4 - 2km SSW of Cobb, California   \n",
      "302 -122.818665  38.820167     M 0.9 - 7km NW of The Geysers, California   \n",
      "303 -121.472667  37.024833         M 1.1 - 8km ENE of Gilroy, California   \n",
      "304 -152.140400  62.151300          M 1.1 - 107km W of Talkeetna, Alaska   \n",
      "305 -118.619333  37.969500  M 1.5 - 47km NE of Mammoth Lakes, California   \n",
      "\n",
      "                                 Place  Magnitude  \n",
      "301        2km SSW of Cobb, California       1.35  \n",
      "302  7km NW of The Geysers, California       0.85  \n",
      "303      8km ENE of Gilroy, California       1.07  \n",
      "304       107km W of Talkeetna, Alaska       1.10  \n",
      "305                                NaN        NaN  \n",
      "     Latitude  Longitude                                        Title  \\\n",
      "0 -118.895700  38.860700        M 1.0 - 27km ESE of Yerington, Nevada   \n",
      "1 -124.254833  40.676333  M 2.5 - 7km SW of Humboldt Hill, California   \n",
      "2 -116.020000  31.622500      M 2.6 - 53km ESE of Maneadero, B.C., MX   \n",
      "3 -121.328167  36.698667    M 2.1 - 13km SSE of Ridgemark, California   \n",
      "4 -115.614500  33.140500             M 1.5 - 10km W of Calipatria, CA   \n",
      "\n",
      "                                 Place  Magnitude  \n",
      "0        27km ESE of Yerington, Nevada       1.00  \n",
      "1  7km SW of Humboldt Hill, California       2.52  \n",
      "2      53km ESE of Maneadero, B.C., MX       2.57  \n",
      "3    13km SSE of Ridgemark, California       2.06  \n",
      "4             10km W of Calipatria, CA       1.45  \n"
     ]
    }
   ],
   "source": [
    "#Combining the list into a dataframe and head of the data frame\n",
    "df=pd.DataFrame(list(zip(lat,longi,title,place,mag)),columns=['Latitude','Longitude','Title','Place','Magnitude'])\n",
    "print df.tail()\n",
    "print df.head()"
   ]
  },
  {
   "cell_type": "code",
   "execution_count": 12,
   "metadata": {},
   "outputs": [],
   "source": [
    "#Extracting the dataframe into csv\n",
    "df.to_csv('seismic.csv')"
   ]
  }
 ],
 "metadata": {
  "kernelspec": {
   "display_name": "Python 2",
   "language": "python",
   "name": "python2"
  },
  "language_info": {
   "codemirror_mode": {
    "name": "ipython",
    "version": 2
   },
   "file_extension": ".py",
   "mimetype": "text/x-python",
   "name": "python",
   "nbconvert_exporter": "python",
   "pygments_lexer": "ipython2",
   "version": "2.7.14"
  }
 },
 "nbformat": 4,
 "nbformat_minor": 2
}
